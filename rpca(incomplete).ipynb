{
  "nbformat": 4,
  "nbformat_minor": 0,
  "metadata": {
    "kernelspec": {
      "display_name": "Python 3",
      "language": "python",
      "name": "python3"
    },
    "language_info": {
      "codemirror_mode": {
        "name": "ipython",
        "version": 3
      },
      "file_extension": ".py",
      "mimetype": "text/x-python",
      "name": "python",
      "nbconvert_exporter": "python",
      "pygments_lexer": "ipython3",
      "version": "3.7.3"
    },
    "colab": {
      "name": "rpca(incomplete).ipynb",
      "provenance": []
    }
  },
  "cells": [
    {
      "cell_type": "code",
      "metadata": {
        "id": "2AMYzArbz94S"
      },
      "source": [
        "import pandas as pd\n",
        "import numpy as np\n",
        "import time, os\n",
        "from collections import Counter\n",
        "from scipy.linalg import norm, svd\n",
        "from sklearn.preprocessing import StandardScaler\n",
        "import matplotlib.pyplot as plt\n",
        "import matplotlib.style\n",
        "matplotlib.style.use('ggplot')\n",
        "plt.rcParams['figure.figsize'] = (16, 9)\n",
        "%matplotlib inline"
      ],
      "execution_count": 1,
      "outputs": []
    },
    {
      "cell_type": "code",
      "metadata": {
        "id": "gSb2gADlz94U"
      },
      "source": [
        "def rpca(X, Lpenalty=-1, Spenalty=-1, maxIter=1000):\n",
        "    start = time.time()\n",
        "    m, n = X.shape\n",
        "    Lpenalty = Lpenalty if Lpenalty != -1 else 1\n",
        "    Spenalty = Spenalty if Spenalty != -1 else 1.4 / np.sqrt(max(m,n))\n",
        "    it = 0\n",
        "    converged = False\n",
        "    objPrev = 0.5 * squaredNorm(X)\n",
        "    tol = 1e-8 * objPrev\n",
        "    diff = 2 * tol\n",
        "    mu = m * n / (4 * lpNorm1(X))\n",
        "    \n",
        "    L = np.matrix(np.zeros((m,n)))\n",
        "    S = None\n",
        "    E = None\n",
        "\n",
        "    while(it < maxIter and diff > tol):\n",
        "        S, l1Norm = getS(X, L, mu, Spenalty)\n",
        "        L, nuclearNorm = getL(X, S, mu, Lpenalty)\n",
        "        E, l2Norm = getE(X, L, S)\n",
        "        obj = getObjective(nuclearNorm, l1Norm, l2Norm)\n",
        "        diff = abs(objPrev - obj)\n",
        "        objPrev = obj\n",
        "        mu = getDynamicMu(E)\n",
        "        it += 1\n",
        "        if (diff < tol): converged = True\n",
        "    print('Convergence: ', converged)\n",
        "    print(it)\n",
        "    print('Time', round(time.time() - start, 2))\n",
        "    return X, L, S, E\n",
        "\n",
        "def lpNorm1(X): \n",
        "    return abs(X).sum()\n",
        "\n",
        "def squaredNorm(X): \n",
        "    return norm(X)**2\n",
        "\n",
        "def getS(X, L, mu, spenalty):\n",
        "    spenalty2 = spenalty * mu\n",
        "    S = RcppSoftThresholdMatrix(X - L, spenalty2)\n",
        "    return S, spenalty2 * lpNorm1(S)\n",
        "\n",
        "def RcppSoftThresholdMatrix(X, penalty): \n",
        "    return np.vectorize(lambda x: RcppSoftThresholdScalar(x, penalty), otypes=[np.float])(X)\n",
        "    \n",
        "def RcppSoftThresholdScalar(x, penalty):\n",
        "    penalized = abs(x) - penalty\n",
        "    if penalized < 0: \n",
        "      return 0\n",
        "    if x > 0: \n",
        "      return penalized\n",
        "    return -penalized\n",
        "\n",
        "def getL(X, S, mu, Lpenalty):\n",
        "    Lpenalty2 = Lpenalty * mu\n",
        "    L, Ds = SVT(X - S, Lpenalty2)\n",
        "    return L, Lpenalty2 * Ds.sum()\n",
        "\n",
        "def SVT(X, penalty):\n",
        "    UDV = svd(X.T, False)\n",
        "    U = np.matrix(UDV[2].T)\n",
        "    V = np.matrix(UDV[0].T)\n",
        "    Ds = np.diag(Dsoft(UDV[1], penalty))\n",
        "    L = (U * Ds * V)\n",
        "    return L, Ds\n",
        "        \n",
        "def Dsoft(d, penalty):\n",
        "    di = np.zeros(len(d))\n",
        "    for j in range(len(d)):\n",
        "        penalized = d[j] - penalty\n",
        "        di[j] = 0 if penalized < 0 else penalized\n",
        "    return di\n",
        "\n",
        "def getE(X, L, S):\n",
        "    E = X - L - S\n",
        "    return E, squaredNorm(E)\n",
        "\n",
        "def getObjective(nuclearnorm, l1norm, l2norm): \n",
        "    return 0.5*l2norm + nuclearnorm + l1norm\n",
        "\n",
        "def getDynamicMu(E):\n",
        "    m, n = E.shape\n",
        "    mu = E.std() * np.sqrt(2 * max(m,n))\n",
        "    return max(mu, .01)"
      ],
      "execution_count": 2,
      "outputs": []
    },
    {
      "cell_type": "code",
      "metadata": {
        "colab": {
          "base_uri": "https://localhost:8080/"
        },
        "id": "vHlF1h4mz94V",
        "outputId": "291152c3-f36e-4e29-d228-d8d2c1d0eb25"
      },
      "source": [
        "f = 7\n",
        "T = 10\n",
        "forcediff = True\n",
        "scaled = False\n",
        "sinusoidal = np.sin(2*np.pi/f * np.array(range(1,T*f+1)))\n",
        "ts = sinusoidal.copy()\n",
        "ts[57:60] = 100\n",
        "\n",
        "x1 = np.insert(np.diff(ts), 0, 0) if forcediff else ts\n",
        "    \n",
        "if not scaled:\n",
        "    mean = x1.mean()\n",
        "    std = x1.std()\n",
        "    x2 = (x1 - mean)/std\n",
        "else:\n",
        "    mean, std = 0, 1\n",
        "    x2 = x1\n",
        "\n",
        "X = np.matrix(x2).reshape(f, T, order='F')\n",
        "r1 = rpca(X)\n",
        "ft = lambda x: pd.DataFrame((x.T.A1 * std + mean).reshape(f, T, order='F'))\n",
        "gt = lambda x: pd.DataFrame((x.T.A1 * std).reshape(f, T, order='F'))\n",
        "r2 = [ft(y) for y in r1[:2]] + [gt(y) for y in r1[2:4]]"
      ],
      "execution_count": 3,
      "outputs": [
        {
          "output_type": "stream",
          "name": "stdout",
          "text": [
            "Convergence:  True\n",
            "24\n",
            "Time 0.03\n"
          ]
        }
      ]
    },
    {
      "cell_type": "code",
      "metadata": {
        "id": "bkY2s3J6z94W"
      },
      "source": [
        "#CUMSUM\n",
        "init = ts[0]\n",
        "dif = np.insert(np.diff(ts), 0, 0)\n",
        "mean1 = dif.mean()\n",
        "std1 = dif.std()\n",
        "difs = (dif - mean1)/std1\n",
        "mdf = np.matrix(difs).reshape(f, T, order='F')\n",
        "xo = init + (mdf * std1 + mean1).T.cumsum()"
      ],
      "execution_count": 4,
      "outputs": []
    },
    {
      "cell_type": "code",
      "metadata": {
        "id": "XwSM8G-Bz94W"
      },
      "source": [
        "df = pd.Series(R[0].unstack().values) == pd.Series(R[0].values.flatten('F'))\n",
        "df = pd.DataFrame(np.matrix([x.values.flatten('F') for x in R]).T, columns=['X','L','S','E'])\n",
        "df['time'] = df.index\n",
        "\n",
        "ax = df[df.S > 0].plot.scatter(x='time', y='S', color='r', label='S', s=100)\n",
        "ax = df.plot.line(x='time', y='X', color='b', label='X', ax=ax)\n",
        "ax = df.plot.line(x='time', y='L', color='g', label='L', ax=ax)\n",
        "df.plot.line(x='time', y='E', color='k', label='E', style='--', ax=ax)\n",
        "plt.show()"
      ],
      "execution_count": null,
      "outputs": []
    },
    {
      "cell_type": "code",
      "metadata": {
        "id": "ZpEMEoZlz94W"
      },
      "source": [
        "std = np.sqrt(np.var(X.values))\n",
        "mean = np.mean(X.values)"
      ],
      "execution_count": null,
      "outputs": []
    },
    {
      "cell_type": "code",
      "metadata": {
        "id": "VXFNY3LKz94X"
      },
      "source": [
        "def soft1(x, penalty):\n",
        "    return np.sign(x) * max(abs(x) - penalty,0) if x != 0 else 0\n",
        "\n",
        "def soft2(x, penalty):\n",
        "    penalized = abs(x) - penalty\n",
        "    if penalized < 0:\n",
        "        return 0\n",
        "    if x > 0:\n",
        "        return penalized\n",
        "    return -penalized\n",
        "\n",
        "def soft3(x, penalty):\n",
        "    penalized = x - penalty\n",
        "    return penalized if penalized > 0 else 0\n",
        "\n",
        "soft1(6,4), soft1(4,6), soft1(6,-4), soft1(-4,6), soft1(-6,-4), soft1(-4,-6)\n",
        "soft2(6,4), soft2(4,6), soft2(6,-4), soft2(-4,6), soft2(-6,-4), soft2(-4,-6)\n",
        "soft3(6,4), soft3(4,6), soft3(6,-4), soft3(-4,6), soft3(-6,-4), soft3(-4,-6)\n",
        "\n",
        "soft1(0,4), soft1(0,6), soft1(0,-4), soft1(0,6), soft1(0,-4), soft1(0,-6)\n",
        "soft3(0,4), soft3(0,6), soft3(0,-4), soft3(0,6), soft3(0,-4), soft3(0,-6)\n",
        "soft1(6,4), soft1(4,6), soft1(6,-4), soft1(4,6), soft1(6,-4), soft1(4,-6)\n",
        "soft3(6,4), soft3(4,6), soft3(6,-4), soft3(4,6), soft3(6,-4), soft3(4,-6)\n",
        "soft1(1,4), soft1(1,6), soft1(1,-4), soft1(1,6), soft1(1,-4), soft1(1,-6)\n",
        "soft3(1,4), soft3(1,6), soft3(1,-4), soft3(1,6), soft3(1,-4), soft3(1,-6)"
      ],
      "execution_count": null,
      "outputs": []
    },
    {
      "cell_type": "code",
      "metadata": {
        "id": "NK3UIRZ3z94X"
      },
      "source": [
        "A = np.matrix([-1,2])\n",
        "B = np.matrix([[1,-2],[-3,4]])\n",
        "C = np.matrix([[5,3],[4,2]])\n",
        "D = np.matrix([[0.68,0.597],[-0.211,0.823],[0.566,-0.605]])\n",
        "E = np.matrix([[(-0.211+0.68j),(-0.605+0.823j)],[(0.597+0.566j),(0.536-0.33j)]])\n",
        "F = np.matrix(np.arange(1,25).reshape(3,8))\n",
        "\n",
        "U = np.matrix(svd(D.T, False)[2].T)\n",
        "d = svd(D, False)[1]\n",
        "V = np.matrix(svd(D.T, False)[0].T)\n",
        "svd(B, False)[2].T == np.matrix(svd(B, False)[2]).H"
      ],
      "execution_count": null,
      "outputs": []
    },
    {
      "cell_type": "code",
      "metadata": {
        "id": "fDFPB9-yz94X"
      },
      "source": [
        "def Dsoft2(d, penalty):\n",
        "    di = np.zeros(len(d))\n",
        "    for j in range(len(d)):\n",
        "        penalized = d[j] - penalty\n",
        "        di[j] = 0 if penalized < 0 else penalized\n",
        "    return di\n",
        "\n",
        "def Dsoft(d, penalty):\n",
        "    def debt(x):\n",
        "        penalized = x - penalty\n",
        "        return penalized if penalized > 0 else 0\n",
        "    return map(lambda x: debt(x), d)\n",
        "\n",
        "U = np.matrix(linalg.svd(D, False)[0])\n",
        "d = np.diag(linalg.svd(D, False)[1])\n",
        "V = np.matrix(linalg.svd(D, False)[2])\n",
        "U * d * V"
      ],
      "execution_count": null,
      "outputs": []
    },
    {
      "cell_type": "code",
      "metadata": {
        "id": "LDidek06z94X"
      },
      "source": [
        "x = np.array([1, 2, 4, 7, 0])\n",
        "np.diff(x)\n",
        "x = np.array([[1, 3, 6, 10], [0, 5, 6, 8]])\n",
        "np.diff(C, axis=0)\n",
        "\n",
        "data:  j\n",
        "Dickey-Fuller = -3.3453, Lag order = 4, p-value = 0.07172\n",
        "alternative hypothesis: stationary\n",
        "adf$p.value > .05\n",
        "\n",
        "from statsmodels.tsa.stattools import adfuller\n",
        "\n",
        "k = lambda x: int(pow(len(x)-1, 1/3))\n",
        "k(ts)\n",
        "\n",
        "print(adfuller(ts, 4, 'ct', autolag=None))\n",
        "\n",
        "x = np.random.normal(size=1000)\n",
        "y = np.diff(x)\n",
        "print(adfuller(x, k(x), 'c', autolag=None))\n",
        "\n",
        "c = np.diag(C)\n",
        "C1 = np.diag(c)\n",
        "C1 * B"
      ],
      "execution_count": null,
      "outputs": []
    },
    {
      "cell_type": "code",
      "metadata": {
        "id": "-vMJZ_2Wz94Y"
      },
      "source": [
        "from PIL import Image\n",
        "\n",
        "np.array([16,9])*40, np.array([4,3])*120\n",
        "plt.imshow(co, cmap='gray')\n",
        "plt.show()\n",
        "\n",
        "im = Image.open(\"/home/user/images/camera/20160704_142647_Burst34.jpg\")\n",
        "co = im.resize((w,h),Image.LANCZOS).convert('L').resize((480,270),Image.LANCZOS)\n",
        "plt.imshow(co, cmap='gray')\n",
        "plt.show()\n",
        "\n",
        "mi = np.array(co)\n",
        "im2 = Image.fromarray(mi, 'L')\n",
        "plt.imshow(co, cmap='gray')\n",
        "plt.show()\n",
        "\n",
        "w, h = 160,90\n",
        "1.4 / np.sqrt(max(160*90,30))\n",
        "\n",
        "source = '/home/user/images/camera/'\n",
        "res = w,h\n",
        "buf = []\n",
        "for i in sorted(os.listdir(source)):\n",
        "    im = Image.open(source+i).convert('L').resize(res ,Image.LANCZOS)\n",
        "    buf.append(np.array(im).flatten())\n",
        "with open('/home/user/images/base.pic', 'w') as fo:\n",
        "    for i in buf:\n",
        "        fo.write('\\t'.join(map(lambda x:str(x), i.tolist())) + '\\n')\n",
        "\n",
        "mn = \"X\", \"L\", \"S\", \"E\"\n",
        "source = '/home/user/images/'\n",
        "dest = '/burst-'\n",
        "res = h, w\n",
        "for i in mn:\n",
        "    with open(source+'base.'+i) as fi:\n",
        "        buf = []\n",
        "        for j in fi:\n",
        "            mi = list(map(np.uint8 , j.split('\\t')))\n",
        "            im = Image.fromarray(np.array(mi).reshape(res), 'L')\n",
        "            buf.append(im.resize((640,360),Image.LANCZOS))\n",
        "    for k in range(len(buf)):\n",
        "        buf[k].save(source+'images'+i+dest+str(k)+'.gif')\n",
        "\n",
        "Image.fromarray(buf[0].reshape(res), 'L')"
      ],
      "execution_count": null,
      "outputs": []
    },
    {
      "cell_type": "code",
      "metadata": {
        "id": "xa-n3ac5z94Y"
      },
      "source": [
        "co = im.resize((80,45),Image.LANCZOS).convert('L')\n",
        "buf = np.array(co).flatten()\n",
        "mi = buf.reshape((45,80))\n",
        "Image.fromarray(mi, 'L')\n",
        "\n",
        "co = im.resize((80,45),Image.LANCZOS).convert('L')\n",
        "buf = np.array(co).flatten().tolist()\n",
        "mi = np.array(list(map(np.uint8 , buf))).reshape((45,80))\n",
        "Image.fromarray(mi, 'L')\n",
        "\n",
        "co = im.resize((80,45),Image.LANCZOS).convert('L')\n",
        "buf = np.array(co).flatten().tolist()\n",
        "di = '\\t'.join(map(str, buf))\n",
        "buf2 = list(map(np.uint8 , di.split('\\t')))\n",
        "mi = np.array(buf2).reshape((45,80))\n",
        "Image.fromarray(mi, 'L')\n",
        "\n",
        "convert -delay 50 -loop 0 imagesX/* imagesX.gif"
      ],
      "execution_count": null,
      "outputs": []
    },
    {
      "cell_type": "code",
      "metadata": {
        "id": "Z8TxtQH-z94Y"
      },
      "source": [
        "home_user = 'user'\n",
        "\n",
        "with open('/home/{}/rpca/resources/dev_7d.tsd'.format(home_user)) as fi:\n",
        "    buf = list(map(int, fi.read().split(',')))\n",
        "\n",
        "repeat = 1\n",
        "f = 1440\n",
        "T = int(len(buf)/f)*repeat if (len(buf)%f == 0) else print(\"Incomplete Period \", len(buf)/f)\n",
        "forcediff=False\n",
        "scaled=False\n",
        "ts = np.tile(np.array(buf), repeat)\n",
        "ts[600] = 10000\n",
        "\n",
        "x1 = np.insert(np.diff(ts), 0, 0) if forcediff else ts\n",
        "    \n",
        "if not scaled:\n",
        "    mean = x1.mean()\n",
        "    std = x1.std()\n",
        "    x2 = (x1 - mean)/std\n",
        "else:\n",
        "    mean, std = 0, 1\n",
        "    x2 = x1\n",
        "\n",
        "X = np.matrix(x2).reshape(f, T, order='F')\n",
        "spenalty = (30 / np.sqrt(max(f,T)))\n",
        "print(spenalty)\n",
        "r1 = rpca(X, Spenalty=spenalty, maxIter=2000)\n",
        "\n",
        "ft = lambda x: pd.DataFrame((x.T.A1 * std + mean).reshape(f, T, order='F'))\n",
        "gt = lambda x: pd.DataFrame((x.T.A1 * std).reshape(f, T, order='F'))\n",
        "r2 = [ft(y) for y in r1[:2]] + [gt(y) for y in r1[2:4]]\n",
        "\n",
        "x, l, s, e = r2"
      ],
      "execution_count": null,
      "outputs": []
    },
    {
      "cell_type": "code",
      "metadata": {
        "id": "mHrhXRsnz94Z"
      },
      "source": [
        "cycle = int(T/repeat)\n",
        "s[s != 0].iloc[:,:cycle].dropna(how='all')"
      ],
      "execution_count": null,
      "outputs": []
    },
    {
      "cell_type": "code",
      "metadata": {
        "id": "X_P28EuLz94Z"
      },
      "source": [
        "df = pd.DataFrame(np.matrix([x.values.flatten('F') for x in r2]).T, columns=['X','L','S','E'])\n",
        "df['time'] = df.index\n",
        "\n",
        "ax = df.plot.line(x='time', y='X', color='w', label='X')\n",
        "df.plot.line(x='time', y='S', color='r', label='S', ax=ax)\n",
        "plt.show()"
      ],
      "execution_count": null,
      "outputs": []
    },
    {
      "cell_type": "code",
      "metadata": {
        "id": "T_3knu5Cz94a"
      },
      "source": [
        "cycle = int(T/repeat)\n",
        "sm = s.iloc[:,:cycle].values\n",
        "\n",
        "cycle = int(T/repeat)\n",
        "sf = s[s != 0].iloc[:,:cycle].dropna(how='all')\n",
        "sm = dict([ (x,sf.loc[x][sf.loc[x].notnull()].to_dict()) for x in sf.index])"
      ],
      "execution_count": null,
      "outputs": []
    },
    {
      "cell_type": "code",
      "metadata": {
        "id": "4W1VwdUDz94a"
      },
      "source": [
        "d = 72\n",
        "plt.plot(x.as_matrix().ravel('F')[:d])\n",
        "plt.plot(l.as_matrix().ravel('F')[:d])\n",
        "plt.plot(s.as_matrix().ravel('F')[:d])\n",
        "plt.plot(e.as_matrix().ravel('F')[:d])\n",
        "plt.show()"
      ],
      "execution_count": null,
      "outputs": []
    }
  ]
}